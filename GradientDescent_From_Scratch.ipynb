{
 "cells": [
  {
   "cell_type": "code",
   "execution_count": 2,
   "metadata": {},
   "outputs": [],
   "source": [
    "from sklearn.datasets import make_regression\n",
    "import matplotlib.pyplot as plt\n",
    "import numpy as np\n"
   ]
  },
  {
   "cell_type": "code",
   "execution_count": 3,
   "metadata": {},
   "outputs": [],
   "source": [
    "X,y=make_regression(n_samples=100,n_features=1,n_informative=1,n_targets=1,noise=20)"
   ]
  },
  {
   "cell_type": "code",
   "execution_count": 4,
   "metadata": {},
   "outputs": [
    {
     "data": {
      "text/plain": [
       "<matplotlib.collections.PathCollection at 0x21e2ec8b608>"
      ]
     },
     "execution_count": 4,
     "metadata": {},
     "output_type": "execute_result"
    },
    {
     "data": {
      "image/png": "[encoded data removed]",
      "text/plain": [
       "<Figure size 432x288 with 1 Axes>"
      ]
     },
     "metadata": {
      "needs_background": "light"
     },
     "output_type": "display_data"
    }
   ],
   "source": [
    "plt.scatter(X,y)"
   ]
  },
  {
   "cell_type": "code",
   "execution_count": 5,
   "metadata": {},
   "outputs": [],
   "source": [
    "from sklearn.linear_model import LinearRegression"
   ]
  },
  {
   "cell_type": "code",
   "execution_count": 6,
   "metadata": {},
   "outputs": [],
   "source": [
    "l=LinearRegression()"
   ]
  },
  {
   "cell_type": "code",
   "execution_count": 7,
   "metadata": {},
   "outputs": [
    {
     "name": "stdout",
     "output_type": "stream",
     "text": [
      "[35.77059727]\n",
      "-1.525952836373869\n"
     ]
    }
   ],
   "source": [
    "l.fit(X,y)\n",
    "print(l.coef_)\n",
    "print(l.intercept_)"
   ]
  },
  {
   "cell_type": "markdown",
   "metadata": {},
   "source": [
    "# WHEN \"SLOPE m\" IS FIXED AND \"INTERCEPT b\" IS CHANGING"
   ]
  },
  {
   "cell_type": "code",
   "execution_count": 14,
   "metadata": {},
   "outputs": [],
   "source": [
    "m=35.77"
   ]
  },
  {
   "cell_type": "code",
   "execution_count": 15,
   "metadata": {},
   "outputs": [],
   "source": [
    "class GDRegressor:\n",
    "    \n",
    "    def __init__(self,learning_rate,epochs):\n",
    "        self.m = 35.77\n",
    "        self.b = -120    #start with any value of b\n",
    "        self.lr = learning_rate\n",
    "        self.epochs = epochs\n",
    "        \n",
    "    def fit(self,X,y):\n",
    "        # calcualte the b using GD\n",
    "        for i in range(self.epochs):\n",
    "            loss_slope = -2 * np.sum(y - self.m*X.ravel() - self.b)\n",
    "            self.b = self.b - (self.lr * loss_slope)\n",
    "            print(loss_slope,self.b)\n",
    "            \n",
    "        print(self.b)\n",
    "        "
   ]
  },
  {
   "cell_type": "code",
   "execution_count": 16,
   "metadata": {},
   "outputs": [],
   "source": [
    "gd = GDRegressor(0.001,66)"
   ]
  },
  {
   "cell_type": "code",
   "execution_count": 17,
   "metadata": {},
   "outputs": [
    {
     "name": "stdout",
     "output_type": "stream",
     "text": [
      "-23694.801743129257 -96.30519825687074\n",
      "-18955.8413945034 -77.34935686236733\n",
      "-15164.673115602718 -62.18468374676461\n",
      "-12131.738492482178 -50.052945254282434\n",
      "-9705.39079398574 -40.34755446029669\n",
      "-7764.312635188592 -32.5832418251081\n",
      "-6211.450108150872 -26.371791716957226\n",
      "-4969.1600865207 -21.402631630436524\n",
      "-3975.3280692165586 -17.427303561219965\n",
      "-3180.262455373246 -14.24704110584672\n",
      "-2544.2099642985972 -11.702831141548122\n",
      "-2035.367971438878 -9.667463170109244\n",
      "-1628.2943771511023 -8.039168792958142\n",
      "-1302.6355017208818 -6.73653329123726\n",
      "-1042.1084013767056 -5.694424889860554\n",
      "-833.6867211013644 -4.860738168759189\n",
      "-666.9493768810913 -4.193788791878098\n",
      "-533.5595015048732 -3.6602292903732248\n",
      "-426.8476012038983 -3.2333816891693266\n",
      "-341.4780809631188 -2.8919036082062077\n",
      "-273.182464770495 -2.618721143435713\n",
      "-218.5459718163961 -2.400175171619317\n",
      "-174.83677745311684 -2.2253383941662\n",
      "-139.86942196249365 -2.085468972203706\n",
      "-111.89553756999474 -1.9735734346337113\n",
      "-89.51643005599571 -1.8840570045777156\n",
      "-71.61314404479666 -1.812443860532919\n",
      "-57.29051523583733 -1.7551533452970816\n",
      "-45.83241218866975 -1.7093209331084118\n",
      "-36.66592975093593 -1.6726550033574759\n",
      "-29.332743800748815 -1.643322259556727\n",
      "-23.466195040598834 -1.6198560645161282\n",
      "-18.772956032479115 -1.601083108483649\n",
      "-15.018364825983426 -1.5860647436576656\n",
      "-12.014691860786556 -1.574050051796879\n",
      "-9.611753488629219 -1.5644382983082497\n",
      "-7.689402790903429 -1.5567488955173463\n",
      "-6.151522232722627 -1.5505973732846237\n",
      "-4.9212177861782465 -1.5456761554984455\n",
      "-3.93697422894256 -1.541739181269503\n",
      "-3.149579383154176 -1.5385896018863487\n",
      "-2.5196635065233153 -1.5360699383798255\n",
      "-2.015730805218638 -1.5340542075746069\n",
      "-1.6125846441747314 -1.532441622930432\n",
      "-1.2900677153399585 -1.531151555215092\n",
      "-1.0320541722719128 -1.5301195010428201\n",
      "-0.8256433378173966 -1.5292938577050028\n",
      "-0.6605146702540168 -1.5286333430347487\n",
      "-0.5284117362031537 -1.5281049312985455\n",
      "-0.4227293889626509 -1.5276822019095828\n",
      "-0.3381835111702145 -1.5273440183984126\n",
      "-0.27054680893603233 -1.5270734715894765\n",
      "-0.21643744714866386 -1.5268570341423278\n",
      "-0.17314995771906183 -1.5266838841846087\n",
      "-0.13851996617530915 -1.5265453642184335\n",
      "-0.11081597294015921 -1.5264345482454933\n",
      "-0.08865277835217 -1.5263458954671412\n",
      "-0.07092222268165926 -1.5262749732444596\n",
      "-0.056737778145347306 -1.5262182354663143\n",
      "-0.04539022251636027 -1.526172845243798\n",
      "-0.03631217801317632 -1.5261365330657848\n",
      "-0.029049742410549584 -1.5261074833233743\n",
      "-0.023239793928453878 -1.526084243529446\n",
      "-0.018591835142714785 -1.5260656516943032\n",
      "-0.014873468114089405 -1.5260507782261892\n",
      "-0.011898774491513109 -1.5260388794516977\n",
      "-1.5260388794516977\n"
     ]
    }
   ],
   "source": [
    "gd.fit(X,y)"
   ]
  },
  {
   "cell_type": "markdown",
   "metadata": {},
   "source": [
    "# WHEN \"SLOPE m\"  AND \"INTERCEPT b\" BOTH ARE CHANGING"
   ]
  },
  {
   "cell_type": "code",
   "execution_count": 18,
   "metadata": {},
   "outputs": [],
   "source": [
    "from sklearn.model_selection import train_test_split\n",
    "X_train,X_test,y_train,y_test = train_test_split(X,y,test_size=0.2,random_state=2)"
   ]
  },
  {
   "cell_type": "code",
   "execution_count": 19,
   "metadata": {},
   "outputs": [],
   "source": [
    "from sklearn.linear_model import LinearRegression"
   ]
  },
  {
   "cell_type": "code",
   "execution_count": 20,
   "metadata": {},
   "outputs": [],
   "source": [
    "ls = LinearRegression()"
   ]
  },
  {
   "cell_type": "code",
   "execution_count": 21,
   "metadata": {},
   "outputs": [
    {
     "name": "stdout",
     "output_type": "stream",
     "text": [
      "[35.48477395]\n",
      "-1.4966266847569787\n"
     ]
    }
   ],
   "source": [
    "ls.fit(X_train,y_train)\n",
    "print(ls.coef_)\n",
    "print(ls.intercept_)"
   ]
  },
  {
   "cell_type": "code",
   "execution_count": 22,
   "metadata": {},
   "outputs": [
    {
     "data": {
      "text/plain": [
       "0.5411537938863389"
      ]
     },
     "execution_count": 22,
     "metadata": {},
     "output_type": "execute_result"
    }
   ],
   "source": [
    "y_pred = ls.predict(X_test)\n",
    "from sklearn.metrics import r2_score\n",
    "r2_score(y_test,y_pred)"
   ]
  },
  {
   "cell_type": "code",
   "execution_count": 23,
   "metadata": {},
   "outputs": [],
   "source": [
    "class GDRegressor:\n",
    "    \n",
    "    def __init__(self,learning_rate,epochs):\n",
    "        self.m = 100\n",
    "        self.b = -120\n",
    "        self.lr = learning_rate\n",
    "        self.epochs = epochs\n",
    "        \n",
    "    def fit(self,X,y):\n",
    "        # calcualte the b using GD\n",
    "        for i in range(self.epochs):\n",
    "            loss_slope_b = -2 * np.sum(y - self.m*X.ravel() - self.b)\n",
    "            loss_slope_m = -2 * np.sum((y - self.m*X.ravel() - self.b)*X.ravel())\n",
    "            \n",
    "            self.b = self.b - (self.lr * loss_slope_b)\n",
    "            self.m = self.m - (self.lr * loss_slope_m)\n",
    "        print(self.m,self.b)\n",
    "        \n",
    "    def predict(self,X):\n",
    "        return self.m * X + self.b"
   ]
  },
  {
   "cell_type": "code",
   "execution_count": 25,
   "metadata": {},
   "outputs": [],
   "source": [
    "gdr = GDRegressor(0.001,50)"
   ]
  },
  {
   "cell_type": "code",
   "execution_count": 26,
   "metadata": {},
   "outputs": [
    {
     "name": "stdout",
     "output_type": "stream",
     "text": [
      "35.49670800490562 -1.5135895487872963\n"
     ]
    }
   ],
   "source": [
    "gdr.fit(X_train,y_train)"
   ]
  },
  {
   "cell_type": "code",
   "execution_count": 27,
   "metadata": {},
   "outputs": [
    {
     "data": {
      "text/plain": [
       "0.5411823328821576"
      ]
     },
     "execution_count": 27,
     "metadata": {},
     "output_type": "execute_result"
    }
   ],
   "source": [
    "y_pred = gdr.predict(X_test)\n",
    "from sklearn.metrics import r2_score\n",
    "r2_score(y_test,y_pred)"
   ]
  },
  {
   "cell_type": "code",
   "execution_count": null,
   "metadata": {},
   "outputs": [],
   "source": []
  }
 ],
 "metadata": {
  "kernelspec": {
   "display_name": "Python 3",
   "language": "python",
   "name": "python3"
  },
  "language_info": {
   "codemirror_mode": {
    "name": "ipython",
    "version": 3
   },
   "file_extension": ".py",
   "mimetype": "text/x-python",
   "name": "python",
   "nbconvert_exporter": "python",
   "pygments_lexer": "ipython3",
   "version": "3.7.6"
  }
 },
 "nbformat": 4,
 "nbformat_minor": 4
}
